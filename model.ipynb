{
 "cells": [
  {
   "cell_type": "code",
   "execution_count": 11,
   "id": "33f0efd1",
   "metadata": {},
   "outputs": [],
   "source": [
    "from keras.utils import to_categorical \n",
    "from keras_preprocessing.image import load_img\n",
    "from keras.models import Sequential\n",
    "from keras.layers import Dense, Conv2D, Dropout, Flatten, MaxPooling2D\n",
    "import os\n",
    "import pandas as pd\n",
    "import numpy as np\n",
    "\"\"\"\n",
    "to_categorical  used convert an class label into categorical labels\n",
    "laod_img:used to load an image\n",
    "Sequential used for creatinf an deeplearning model layers\n",
    "Dense:a connected layer\n",
    "conv2D:used for image processing\n",
    "Dropout:they are manily used for preventing over fitting\n",
    "flattern:used for ransition of fully connected layer\n",
    "os :used for interacting with the os\n",
    "\n",
    "\"\"\""
   ]
  },
  {
   "cell_type": "code",
   "execution_count": 72,
   "id": "2c09dfa4",
   "metadata": {
    "scrolled": true
   },
   "outputs": [],
   "source": [
    "TRAIN_DIR='images/train'\n",
    "TEST_DIR='images/train'\n"
   ]
  },
  {
   "cell_type": "code",
   "execution_count": 73,
   "id": "72a2fda9",
   "metadata": {},
   "outputs": [],
   "source": [
    "def createdataframe(dir):\n",
    "    image_paths=[]\n",
    "    labels=[]\n",
    "    for label in os.listdir(dir):\n",
    "        for imagename in os.listdir(os.path.join(dir,label)):\n",
    "#             print(os.path.join(dir,label,imagename))\n",
    "            image_paths.append(os.path.join(dir,label,imagename))\n",
    "            labels.append(label)\n",
    "        print(label,\"completed\")\n",
    "    return image_paths,labels\n"
   ]
  },
  {
   "cell_type": "code",
   "execution_count": 74,
   "id": "6cc8d741",
   "metadata": {},
   "outputs": [
    {
     "name": "stdout",
     "output_type": "stream",
     "text": [
      "neutral completed\n",
      "surprise completed\n",
      "angry completed\n",
      "sad completed\n",
      "disgust completed\n",
      "happy completed\n",
      "fear completed\n"
     ]
    }
   ],
   "source": [
    "train=pd.DataFrame()\n",
    "train['image'],train['label']=createdataframe(TRAIN_DIR)"
   ]
  },
  {
   "cell_type": "code",
   "execution_count": 75,
   "id": "7c94a6fd",
   "metadata": {},
   "outputs": [
    {
     "name": "stdout",
     "output_type": "stream",
     "text": [
      "                                image    label\n",
      "0        images/train/neutral/999.jpg  neutral\n",
      "1      images/train/neutral/18083.jpg  neutral\n",
      "2       images/train/neutral/9987.jpg  neutral\n",
      "3      images/train/neutral/18812.jpg  neutral\n",
      "4       images/train/neutral/4822.jpg  neutral\n",
      "...                               ...      ...\n",
      "28816     images/train/fear/33183.jpg     fear\n",
      "28817      images/train/fear/8830.jpg     fear\n",
      "28818     images/train/fear/18688.jpg     fear\n",
      "28819      images/train/fear/1795.jpg     fear\n",
      "28820     images/train/fear/25001.jpg     fear\n",
      "\n",
      "[28821 rows x 2 columns]\n"
     ]
    }
   ],
   "source": [
    "print(train)"
   ]
  },
  {
   "cell_type": "code",
   "execution_count": 76,
   "id": "b343d9ef",
   "metadata": {},
   "outputs": [
    {
     "name": "stdout",
     "output_type": "stream",
     "text": [
      "neutral completed\n",
      "surprise completed\n",
      "angry completed\n",
      "sad completed\n",
      "disgust completed\n",
      "happy completed\n",
      "fear completed\n"
     ]
    }
   ],
   "source": [
    "test=pd.DataFrame()\n",
    "test['image'],test['label']=createdataframe(TEST_DIR)"
   ]
  },
  {
   "cell_type": "code",
   "execution_count": 77,
   "id": "a6afb18e",
   "metadata": {},
   "outputs": [
    {
     "name": "stdout",
     "output_type": "stream",
     "text": [
      "                                image    label\n",
      "0        images/train/neutral/999.jpg  neutral\n",
      "1      images/train/neutral/18083.jpg  neutral\n",
      "2       images/train/neutral/9987.jpg  neutral\n",
      "3      images/train/neutral/18812.jpg  neutral\n",
      "4       images/train/neutral/4822.jpg  neutral\n",
      "...                               ...      ...\n",
      "28816     images/train/fear/33183.jpg     fear\n",
      "28817      images/train/fear/8830.jpg     fear\n",
      "28818     images/train/fear/18688.jpg     fear\n",
      "28819      images/train/fear/1795.jpg     fear\n",
      "28820     images/train/fear/25001.jpg     fear\n",
      "\n",
      "[28821 rows x 2 columns]\n",
      "                                image    label\n",
      "0        images/train/neutral/999.jpg  neutral\n",
      "1      images/train/neutral/18083.jpg  neutral\n",
      "2       images/train/neutral/9987.jpg  neutral\n",
      "3      images/train/neutral/18812.jpg  neutral\n",
      "4       images/train/neutral/4822.jpg  neutral\n",
      "...                               ...      ...\n",
      "28816     images/train/fear/33183.jpg     fear\n",
      "28817      images/train/fear/8830.jpg     fear\n",
      "28818     images/train/fear/18688.jpg     fear\n",
      "28819      images/train/fear/1795.jpg     fear\n",
      "28820     images/train/fear/25001.jpg     fear\n",
      "\n",
      "[28821 rows x 2 columns]\n"
     ]
    }
   ],
   "source": [
    "print(test)\n",
    "print(train)"
   ]
  },
  {
   "cell_type": "code",
   "execution_count": 78,
   "id": "7a600363",
   "metadata": {},
   "outputs": [],
   "source": [
    "from tqdm.notebook import tqdm"
   ]
  },
  {
   "cell_type": "code",
   "execution_count": 79,
   "id": "d6dbf88c",
   "metadata": {},
   "outputs": [],
   "source": [
    "def extract_features(images):\n",
    "    features = []\n",
    "    for image in tqdm(images):\n",
    "        img = load_img(image,grayscale =  True )\n",
    "        img = np.array(img)\n",
    "        features.append(img)\n",
    "    features = np.array(features)\n",
    "    features = features.reshape(len(features),48,48,1)\n",
    "    return features\n",
    "    "
   ]
  },
  {
   "cell_type": "code",
   "execution_count": 80,
   "id": "fc956680",
   "metadata": {},
   "outputs": [
    {
     "data": {
      "application/vnd.jupyter.widget-view+json": {
       "model_id": "0ddf5269ce2646e9b2aa781c5835d547",
       "version_major": 2,
       "version_minor": 0
      },
      "text/plain": [
       "  0%|          | 0/28821 [00:00<?, ?it/s]"
      ]
     },
     "metadata": {},
     "output_type": "display_data"
    },
    {
     "name": "stderr",
     "output_type": "stream",
     "text": [
      "/home/sanosh/.local/lib/python3.10/site-packages/keras_preprocessing/image/utils.py:107: UserWarning: grayscale is deprecated. Please use color_mode = \"grayscale\"\n",
      "  warnings.warn('grayscale is deprecated. Please use '\n"
     ]
    }
   ],
   "source": [
    "train_features = extract_features(train['image']) "
   ]
  },
  {
   "cell_type": "code",
   "execution_count": 81,
   "id": "7a148804",
   "metadata": {},
   "outputs": [
    {
     "data": {
      "application/vnd.jupyter.widget-view+json": {
       "model_id": "637d17f288f04e2ba8aa788bfd9a1347",
       "version_major": 2,
       "version_minor": 0
      },
      "text/plain": [
       "  0%|          | 0/28821 [00:00<?, ?it/s]"
      ]
     },
     "metadata": {},
     "output_type": "display_data"
    }
   ],
   "source": [
    "test_features = extract_features(test['image'])"
   ]
  },
  {
   "cell_type": "code",
   "execution_count": 83,
   "id": "07cb3a4e",
   "metadata": {},
   "outputs": [],
   "source": [
    "x_train = train_features/255.0\n",
    "x_test = test_features/255.0\n"
   ]
  },
  {
   "cell_type": "code",
   "execution_count": 52,
   "id": "ad21d1b1",
   "metadata": {},
   "outputs": [],
   "source": [
    "from sklearn.preprocessing import LabelEncoder"
   ]
  },
  {
   "cell_type": "code",
   "execution_count": 84,
   "id": "9968186c",
   "metadata": {},
   "outputs": [
    {
     "data": {
      "text/html": [
       "<style>#sk-container-id-2 {color: black;background-color: white;}#sk-container-id-2 pre{padding: 0;}#sk-container-id-2 div.sk-toggleable {background-color: white;}#sk-container-id-2 label.sk-toggleable__label {cursor: pointer;display: block;width: 100%;margin-bottom: 0;padding: 0.3em;box-sizing: border-box;text-align: center;}#sk-container-id-2 label.sk-toggleable__label-arrow:before {content: \"▸\";float: left;margin-right: 0.25em;color: #696969;}#sk-container-id-2 label.sk-toggleable__label-arrow:hover:before {color: black;}#sk-container-id-2 div.sk-estimator:hover label.sk-toggleable__label-arrow:before {color: black;}#sk-container-id-2 div.sk-toggleable__content {max-height: 0;max-width: 0;overflow: hidden;text-align: left;background-color: #f0f8ff;}#sk-container-id-2 div.sk-toggleable__content pre {margin: 0.2em;color: black;border-radius: 0.25em;background-color: #f0f8ff;}#sk-container-id-2 input.sk-toggleable__control:checked~div.sk-toggleable__content {max-height: 200px;max-width: 100%;overflow: auto;}#sk-container-id-2 input.sk-toggleable__control:checked~label.sk-toggleable__label-arrow:before {content: \"▾\";}#sk-container-id-2 div.sk-estimator input.sk-toggleable__control:checked~label.sk-toggleable__label {background-color: #d4ebff;}#sk-container-id-2 div.sk-label input.sk-toggleable__control:checked~label.sk-toggleable__label {background-color: #d4ebff;}#sk-container-id-2 input.sk-hidden--visually {border: 0;clip: rect(1px 1px 1px 1px);clip: rect(1px, 1px, 1px, 1px);height: 1px;margin: -1px;overflow: hidden;padding: 0;position: absolute;width: 1px;}#sk-container-id-2 div.sk-estimator {font-family: monospace;background-color: #f0f8ff;border: 1px dotted black;border-radius: 0.25em;box-sizing: border-box;margin-bottom: 0.5em;}#sk-container-id-2 div.sk-estimator:hover {background-color: #d4ebff;}#sk-container-id-2 div.sk-parallel-item::after {content: \"\";width: 100%;border-bottom: 1px solid gray;flex-grow: 1;}#sk-container-id-2 div.sk-label:hover label.sk-toggleable__label {background-color: #d4ebff;}#sk-container-id-2 div.sk-serial::before {content: \"\";position: absolute;border-left: 1px solid gray;box-sizing: border-box;top: 0;bottom: 0;left: 50%;z-index: 0;}#sk-container-id-2 div.sk-serial {display: flex;flex-direction: column;align-items: center;background-color: white;padding-right: 0.2em;padding-left: 0.2em;position: relative;}#sk-container-id-2 div.sk-item {position: relative;z-index: 1;}#sk-container-id-2 div.sk-parallel {display: flex;align-items: stretch;justify-content: center;background-color: white;position: relative;}#sk-container-id-2 div.sk-item::before, #sk-container-id-2 div.sk-parallel-item::before {content: \"\";position: absolute;border-left: 1px solid gray;box-sizing: border-box;top: 0;bottom: 0;left: 50%;z-index: -1;}#sk-container-id-2 div.sk-parallel-item {display: flex;flex-direction: column;z-index: 1;position: relative;background-color: white;}#sk-container-id-2 div.sk-parallel-item:first-child::after {align-self: flex-end;width: 50%;}#sk-container-id-2 div.sk-parallel-item:last-child::after {align-self: flex-start;width: 50%;}#sk-container-id-2 div.sk-parallel-item:only-child::after {width: 0;}#sk-container-id-2 div.sk-dashed-wrapped {border: 1px dashed gray;margin: 0 0.4em 0.5em 0.4em;box-sizing: border-box;padding-bottom: 0.4em;background-color: white;}#sk-container-id-2 div.sk-label label {font-family: monospace;font-weight: bold;display: inline-block;line-height: 1.2em;}#sk-container-id-2 div.sk-label-container {text-align: center;}#sk-container-id-2 div.sk-container {/* jupyter's `normalize.less` sets `[hidden] { display: none; }` but bootstrap.min.css set `[hidden] { display: none !important; }` so we also need the `!important` here to be able to override the default hidden behavior on the sphinx rendered scikit-learn.org. See: https://github.com/scikit-learn/scikit-learn/issues/21755 */display: inline-block !important;position: relative;}#sk-container-id-2 div.sk-text-repr-fallback {display: none;}</style><div id=\"sk-container-id-2\" class=\"sk-top-container\"><div class=\"sk-text-repr-fallback\"><pre>LabelEncoder()</pre><b>In a Jupyter environment, please rerun this cell to show the HTML representation or trust the notebook. <br />On GitHub, the HTML representation is unable to render, please try loading this page with nbviewer.org.</b></div><div class=\"sk-container\" hidden><div class=\"sk-item\"><div class=\"sk-estimator sk-toggleable\"><input class=\"sk-toggleable__control sk-hidden--visually\" id=\"sk-estimator-id-2\" type=\"checkbox\" checked><label for=\"sk-estimator-id-2\" class=\"sk-toggleable__label sk-toggleable__label-arrow\">LabelEncoder</label><div class=\"sk-toggleable__content\"><pre>LabelEncoder()</pre></div></div></div></div></div>"
      ],
      "text/plain": [
       "LabelEncoder()"
      ]
     },
     "execution_count": 84,
     "metadata": {},
     "output_type": "execute_result"
    }
   ],
   "source": [
    "le = LabelEncoder()\n",
    "le.fit(train['label'])"
   ]
  },
  {
   "cell_type": "code",
   "execution_count": 85,
   "id": "05d5a9de",
   "metadata": {},
   "outputs": [],
   "source": [
    "y_train = le.transform(train['label'])\n",
    "y_test = le.transform(test['label'])"
   ]
  },
  {
   "cell_type": "code",
   "execution_count": 86,
   "id": "44859f54",
   "metadata": {},
   "outputs": [],
   "source": [
    "y_train = to_categorical(y_train,num_classes = 7)\n",
    "y_test = to_categorical(y_test,num_classes = 7)"
   ]
  },
  {
   "cell_type": "code",
   "execution_count": 87,
   "id": "c5634273",
   "metadata": {},
   "outputs": [],
   "source": [
    "model = Sequential()\n",
    "# convolutional layers\n",
    "model.add(Conv2D(128, kernel_size=(3,3), activation='relu', input_shape=(48,48,1)))\n",
    "model.add(MaxPooling2D(pool_size=(2,2)))\n",
    "model.add(Dropout(0.4))\n",
    "\n",
    "model.add(Conv2D(256, kernel_size=(3,3), activation='relu'))\n",
    "model.add(MaxPooling2D(pool_size=(2,2)))\n",
    "model.add(Dropout(0.4))\n",
    "\n",
    "model.add(Conv2D(512, kernel_size=(3,3), activation='relu'))\n",
    "model.add(MaxPooling2D(pool_size=(2,2)))\n",
    "model.add(Dropout(0.4))\n",
    "\n",
    "model.add(Conv2D(512, kernel_size=(3,3), activation='relu'))\n",
    "model.add(MaxPooling2D(pool_size=(2,2)))\n",
    "model.add(Dropout(0.4))\n",
    "\n",
    "model.add(Flatten())\n",
    "# fully connected layers\n",
    "model.add(Dense(512, activation='relu'))\n",
    "model.add(Dropout(0.4))\n",
    "model.add(Dense(256, activation='relu'))\n",
    "model.add(Dropout(0.3))\n",
    "# output layer\n",
    "model.add(Dense(7, activation='softmax'))\n"
   ]
  },
  {
   "cell_type": "code",
   "execution_count": 88,
   "id": "e36c9b7e",
   "metadata": {},
   "outputs": [],
   "source": [
    "model.compile(optimizer = 'adam', loss = 'categorical_crossentropy', metrics = 'accuracy' )"
   ]
  },
  {
   "cell_type": "code",
   "execution_count": null,
   "id": "8678f44a",
   "metadata": {},
   "outputs": [
    {
     "name": "stderr",
     "output_type": "stream",
     "text": [
      "2024-03-04 20:30:10.802870: W tensorflow/tsl/framework/cpu_allocator_impl.cc:83] Allocation of 265614336 exceeds 10% of free system memory.\n"
     ]
    },
    {
     "name": "stdout",
     "output_type": "stream",
     "text": [
      "Epoch 1/100\n"
     ]
    },
    {
     "name": "stderr",
     "output_type": "stream",
     "text": [
      "2024-03-04 20:30:13.648098: W tensorflow/tsl/framework/cpu_allocator_impl.cc:83] Allocation of 138674176 exceeds 10% of free system memory.\n",
      "2024-03-04 20:30:14.191052: W tensorflow/tsl/framework/cpu_allocator_impl.cc:83] Allocation of 57802752 exceeds 10% of free system memory.\n",
      "2024-03-04 20:30:15.939964: W tensorflow/tsl/framework/cpu_allocator_impl.cc:83] Allocation of 57802752 exceeds 10% of free system memory.\n"
     ]
    },
    {
     "name": "stdout",
     "output_type": "stream",
     "text": [
      "\r",
      "  1/226 [..............................] - ETA: 19:55 - loss: 1.9513 - accuracy: 0.1094"
     ]
    },
    {
     "name": "stderr",
     "output_type": "stream",
     "text": [
      "2024-03-04 20:30:16.823261: W tensorflow/tsl/framework/cpu_allocator_impl.cc:83] Allocation of 69337088 exceeds 10% of free system memory.\n"
     ]
    },
    {
     "name": "stdout",
     "output_type": "stream",
     "text": [
      "226/226 [==============================] - 756s 3s/step - loss: 1.8246 - accuracy: 0.2428 - val_loss: 1.8083 - val_accuracy: 0.2486\n",
      "Epoch 2/100\n",
      "226/226 [==============================] - 742s 3s/step - loss: 1.8042 - accuracy: 0.2503 - val_loss: 1.7832 - val_accuracy: 0.2564\n",
      "Epoch 3/100\n",
      "226/226 [==============================] - 751s 3s/step - loss: 1.7363 - accuracy: 0.2827 - val_loss: 1.6529 - val_accuracy: 0.3336\n",
      "Epoch 4/100\n",
      "226/226 [==============================] - 761s 3s/step - loss: 1.6248 - accuracy: 0.3535 - val_loss: 1.4856 - val_accuracy: 0.4246\n",
      "Epoch 5/100\n",
      "226/226 [==============================] - 770s 3s/step - loss: 1.5245 - accuracy: 0.4059 - val_loss: 1.3833 - val_accuracy: 0.4745\n",
      "Epoch 6/100\n",
      "226/226 [==============================] - 768s 3s/step - loss: 1.4574 - accuracy: 0.4328 - val_loss: 1.3163 - val_accuracy: 0.4979\n",
      "Epoch 7/100\n",
      "226/226 [==============================] - 766s 3s/step - loss: 1.4036 - accuracy: 0.4606 - val_loss: 1.2581 - val_accuracy: 0.5141\n",
      "Epoch 8/100\n",
      "226/226 [==============================] - 768s 3s/step - loss: 1.3692 - accuracy: 0.4734 - val_loss: 1.2474 - val_accuracy: 0.5159\n",
      "Epoch 9/100\n",
      "226/226 [==============================] - 768s 3s/step - loss: 1.3416 - accuracy: 0.4838 - val_loss: 1.2075 - val_accuracy: 0.5456\n",
      "Epoch 10/100\n",
      "226/226 [==============================] - 766s 3s/step - loss: 1.3223 - accuracy: 0.4974 - val_loss: 1.1650 - val_accuracy: 0.5534\n",
      "Epoch 11/100\n",
      "226/226 [==============================] - 769s 3s/step - loss: 1.2931 - accuracy: 0.5070 - val_loss: 1.1308 - val_accuracy: 0.5712\n",
      "Epoch 12/100\n",
      "226/226 [==============================] - 741s 3s/step - loss: 1.2774 - accuracy: 0.5120 - val_loss: 1.1127 - val_accuracy: 0.5738\n",
      "Epoch 13/100\n",
      "226/226 [==============================] - 777s 3s/step - loss: 1.2636 - accuracy: 0.5173 - val_loss: 1.0929 - val_accuracy: 0.5855\n",
      "Epoch 14/100\n",
      "226/226 [==============================] - 772s 3s/step - loss: 1.2458 - accuracy: 0.5230 - val_loss: 1.0854 - val_accuracy: 0.5915\n",
      "Epoch 15/100\n",
      "226/226 [==============================] - 780s 3s/step - loss: 1.2385 - accuracy: 0.5312 - val_loss: 1.0725 - val_accuracy: 0.5959\n",
      "Epoch 16/100\n",
      "226/226 [==============================] - 769s 3s/step - loss: 1.2197 - accuracy: 0.5362 - val_loss: 1.0454 - val_accuracy: 0.6053\n",
      "Epoch 17/100\n",
      "226/226 [==============================] - 762s 3s/step - loss: 1.2113 - accuracy: 0.5400 - val_loss: 1.0180 - val_accuracy: 0.6108\n",
      "Epoch 18/100\n",
      "226/226 [==============================] - 26777s 119s/step - loss: 1.1955 - accuracy: 0.5468 - val_loss: 1.0123 - val_accuracy: 0.6141\n",
      "Epoch 19/100\n",
      "226/226 [==============================] - 739s 3s/step - loss: 1.1868 - accuracy: 0.5479 - val_loss: 0.9956 - val_accuracy: 0.6218\n",
      "Epoch 20/100\n",
      "226/226 [==============================] - 737s 3s/step - loss: 1.1786 - accuracy: 0.5539 - val_loss: 0.9699 - val_accuracy: 0.6392\n",
      "Epoch 21/100\n",
      "226/226 [==============================] - 738s 3s/step - loss: 1.1665 - accuracy: 0.5577 - val_loss: 0.9597 - val_accuracy: 0.6469\n",
      "Epoch 22/100\n",
      "226/226 [==============================] - 753s 3s/step - loss: 1.1654 - accuracy: 0.5546 - val_loss: 0.9523 - val_accuracy: 0.6460\n",
      "Epoch 23/100\n",
      "226/226 [==============================] - 771s 3s/step - loss: 1.1492 - accuracy: 0.5646 - val_loss: 0.9459 - val_accuracy: 0.6494\n",
      "Epoch 24/100\n",
      "226/226 [==============================] - 894s 4s/step - loss: 1.1443 - accuracy: 0.5684 - val_loss: 0.9202 - val_accuracy: 0.6580\n",
      "Epoch 25/100\n",
      "226/226 [==============================] - 918s 4s/step - loss: 1.1279 - accuracy: 0.5740 - val_loss: 0.9134 - val_accuracy: 0.6631\n",
      "Epoch 26/100\n",
      "226/226 [==============================] - 790s 3s/step - loss: 1.1256 - accuracy: 0.5720 - val_loss: 0.9162 - val_accuracy: 0.6560\n",
      "Epoch 27/100\n",
      "226/226 [==============================] - 771s 3s/step - loss: 1.1198 - accuracy: 0.5768 - val_loss: 0.9052 - val_accuracy: 0.6606\n",
      "Epoch 28/100\n",
      "226/226 [==============================] - 790s 3s/step - loss: 1.1105 - accuracy: 0.5821 - val_loss: 0.8872 - val_accuracy: 0.6702\n",
      "Epoch 29/100\n",
      "226/226 [==============================] - 1032s 5s/step - loss: 1.1028 - accuracy: 0.5856 - val_loss: 0.8775 - val_accuracy: 0.6775\n",
      "Epoch 30/100\n",
      "161/226 [====================>.........] - ETA: 4:29 - loss: 1.0932 - accuracy: 0.5833"
     ]
    }
   ],
   "source": [
    "model.fit(x= x_train,y = y_train, batch_size = 128, epochs = 100, validation_data = (x_test,y_test)) "
   ]
  },
  {
   "cell_type": "code",
   "execution_count": null,
   "id": "4092eecd",
   "metadata": {},
   "outputs": [],
   "source": [
    "\n",
    "model_json = model.to_json()\n",
    "with open(\"emotiondetector.json\",'w') as json_file:\n",
    "    json_file.write(model_json)\n",
    "model.save(\"emotiondetector.h5\")"
   ]
  },
  {
   "cell_type": "code",
   "execution_count": null,
   "id": "5f1feaf9",
   "metadata": {},
   "outputs": [],
   "source": [
    "from keras.models import model_from_json"
   ]
  },
  {
   "cell_type": "code",
   "execution_count": null,
   "id": "2119a299",
   "metadata": {},
   "outputs": [],
   "source": [
    "json_file = open(\"facialemotionmodel.json\", \"r\")\n",
    "model_json = json_file.read()\n",
    "json_file.close()\n",
    "model = model_from_json(model_json)\n",
    "model.load_weights(\"facialemotionmodel.h5\")"
   ]
  },
  {
   "cell_type": "code",
   "execution_count": null,
   "id": "71c941e7",
   "metadata": {},
   "outputs": [],
   "source": [
    "label = ['angry','disgust','fear','happy','neutral','sad','surprise']"
   ]
  },
  {
   "cell_type": "code",
   "execution_count": null,
   "id": "19bbf8e9",
   "metadata": {},
   "outputs": [],
   "source": [
    "\n",
    "def ef(image):\n",
    "    img = load_img(image,grayscale =  True )\n",
    "    feature = np.array(img)\n",
    "    feature = feature.reshape(1,48,48,1)\n",
    "    return feature/255.0\n",
    "    "
   ]
  },
  {
   "cell_type": "code",
   "execution_count": null,
   "id": "75b0a601",
   "metadata": {},
   "outputs": [],
   "source": [
    "image = 'images/train/sad/42.jpg'\n",
    "print(\"original image is of sad\")\n",
    "img = ef(image)\n",
    "pred = model.predict(img)\n",
    "pred_label = label[pred.argmax()]\n",
    "print(\"model prediction is \",pred_label)"
   ]
  },
  {
   "cell_type": "code",
   "execution_count": null,
   "id": "81fd8dd6",
   "metadata": {},
   "outputs": [],
   "source": [
    "\n",
    "import matplotlib.pyplot as plt\n",
    "%matplotlib inline"
   ]
  },
  {
   "cell_type": "code",
   "execution_count": null,
   "id": "fd259811",
   "metadata": {},
   "outputs": [],
   "source": [
    "image = 'images/train/sad/42.jpg'\n",
    "print(\"original image is of sad\")\n",
    "img = ef(image)\n",
    "pred = model.predict(img)\n",
    "pred_label = label[pred.argmax()]\n",
    "print(\"model prediction is \",pred_label)\n",
    "plt.imshow(img.reshape(48,48),cmap='gray')"
   ]
  },
  {
   "cell_type": "code",
   "execution_count": null,
   "id": "41d73c2f",
   "metadata": {},
   "outputs": [],
   "source": [
    "image = 'images/train/fear/2.jpg'\n",
    "print(\"original image is of fear\")\n",
    "img = ef(image)\n",
    "pred = model.predict(img)\n",
    "pred_label = label[pred.argmax()]\n",
    "print(\"model prediction is \",pred_label)\n",
    "plt.imshow(img.reshape(48,48),cmap='gray')"
   ]
  },
  {
   "cell_type": "code",
   "execution_count": null,
   "id": "15a4e1a1",
   "metadata": {},
   "outputs": [],
   "source": [
    "image = 'images/train/disgust/299.jpg'\n",
    "print(\"original image is of disgust\")\n",
    "img = ef(image)\n",
    "pred = model.predict(img)\n",
    "pred_label = label[pred.argmax()]\n",
    "print(\"model prediction is \",pred_label)\n",
    "plt.imshow(img.reshape(48,48),cmap='gray')"
   ]
  },
  {
   "cell_type": "code",
   "execution_count": null,
   "id": "a034f9a8",
   "metadata": {},
   "outputs": [],
   "source": [
    "\n",
    "image = 'images/train/happy/7.jpg'\n",
    "print(\"original image is of happy\")\n",
    "img = ef(image)\n",
    "pred = model.predict(img)\n",
    "pred_label = label[pred.argmax()]\n",
    "print(\"model prediction is \",pred_label)\n",
    "plt.imshow(img.reshape(48,48),cmap='gray')"
   ]
  },
  {
   "cell_type": "code",
   "execution_count": null,
   "id": "ae0b9550",
   "metadata": {},
   "outputs": [],
   "source": [
    "image = 'images/train/surprise/15.jpg'\n",
    "print(\"original image is of surprise\")\n",
    "img = ef(image)\n",
    "pred = model.predict(img)\n",
    "pred_label = label[pred.argmax()]\n",
    "print(\"model prediction is \",pred_label)\n",
    "plt.imshow(img.reshape(48,48),cmap='gray')"
   ]
  }
 ],
 "metadata": {
  "kernelspec": {
   "display_name": "Python 3 (ipykernel)",
   "language": "python",
   "name": "python3"
  },
  "language_info": {
   "codemirror_mode": {
    "name": "ipython",
    "version": 3
   },
   "file_extension": ".py",
   "mimetype": "text/x-python",
   "name": "python",
   "nbconvert_exporter": "python",
   "pygments_lexer": "ipython3",
   "version": "3.10.12"
  }
 },
 "nbformat": 4,
 "nbformat_minor": 5
}
